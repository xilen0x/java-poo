{
 "cells": [
  {
   "cell_type": "code",
   "execution_count": 3,
   "id": "561f39ab-f3ba-4b70-8aa7-29c2f81673f6",
   "metadata": {},
   "outputs": [
    {
     "name": "stdout",
     "output_type": "stream",
     "text": [
      "Nota máxima de esta Aula: 9.9\n",
      "Nota máxima de esta Aula: 9.1\n",
      "Nota máxima de esta Aula: 9.0\n",
      "\n",
      "Nota mínima de esta Aula: 3.8\n",
      "Nota mínima de esta Aula: 3.8\n",
      "Nota mínima de esta Aula: 3.7\n"
     ]
    }
   ],
   "source": [
    "double[] notas1 = {7.6, 5.5, 9.7, 4.1, 6.6, 5.1, 3.8, 8.6, 9.9, 5.0};//Aula 1\n",
    "\n",
    "double[] notas2 = {5.0, 4.5, 6.2, 4.9, 7.2, 8.4, 6.5, 3.8, 9.1, 5.7};//Aula 2\n",
    "\n",
    "double[] notas3 = {4.5, 6.8, 6.3, 7.9, 7.1, 3.7, 6.0, 9.0, 8.9, 7.3};//Aula 3\n",
    "\n",
    "//LAS CLASSE NO SON NADA MASQUE BLOQUES DE CÓDIGO CON NOMBRE, MAS GENERALES\n",
    "//QUE LOS BLOQUES DE CODIGO DE LA FUNCIONES.\n",
    "//cuando se meten las funciones dentro de una classe\n",
    "//se suelen llamar MÉTODOS\n",
    "//EN JAVA: TODAS LAS FUNCIONES SON METODOS\n",
    "class Notas {\n",
    "\n",
    "    static void notaMaxima(double[] cualificaciones) { //Defino la funcion PERO no la estoy usando\n",
    "        double max = cualificaciones[0];\n",
    "        for(int index = 1; index < cualificaciones.length; index++)\n",
    "            if(cualificaciones[index] > max)\n",
    "                max = cualificaciones[index];\n",
    "        println(\"Nota máxima de esta Aula: \" + max);\n",
    "    }\n",
    "\n",
    "    static void notaMinima(double[] cualificaciones) { //Defino la funcion PERO no la estoy usando\n",
    "        double min = cualificaciones[0];\n",
    "        for(int index = 1; index < cualificaciones.length; index++)\n",
    "            if(cualificaciones[index] < min)\n",
    "                min = cualificaciones[index];\n",
    "        println(\"Nota mínima de esta Aula: \" + min);\n",
    "    }    \n",
    "}\n",
    "\n",
    "//LLAMO A LA FUNCIÓN notaMaxima\n",
    "//for(int i = 1; i <= 15; i++)\n",
    "Notas.notaMaxima(notas1);\n",
    "Notas.notaMaxima(notas2);\n",
    "Notas.notaMaxima(notas3);\n",
    "println(\"\");\n",
    "Notas.notaMinima(notas1);\n",
    "Notas.notaMinima(notas2);\n",
    "Notas.notaMinima(notas3);\n",
    "\n",
    "//SI QUIERO LLAMAR A UN METODO USANDO EL NOMBRE\n",
    "//DE LA CLASSE, ES OBLIGATORIO QUE EL METODO\n",
    "//SEA ESTATICO (static)\n",
    "\n",
    "//Gestionar las notas -> tendrá sus funciones especificas para cada requisito 6\n",
    "//Gestionar la asistencia 7\n",
    "//... los cursos 5\n",
    "//... las asignaturas 7\n",
    "//... la matriculas 4\n",
    "//... los alumnos 8\n",
    "//... los profesores 9\n",
    "//... las aulas 3"
   ]
  },
  {
   "cell_type": "markdown",
   "id": "2030789e-6ca6-4e24-a909-8d4989cf6b66",
   "metadata": {},
   "source": [
    "# Casting"
   ]
  },
  {
   "cell_type": "code",
   "execution_count": 2,
   "id": "b24bb65b-e2ac-416b-8282-7d8eab1529d1",
   "metadata": {
    "execution": {
     "iopub.execute_input": "2023-01-17T09:16+0000",
     "iopub.status.busy": "2023-01-17T09:16+0000",
     "iopub.status.idle": "2023-01-17T09:16+0000",
     "shell.execute_reply": "2023-01-17T09:16+0000"
    },
    "tags": []
   },
   "outputs": [
    {
     "name": "stdout",
     "output_type": "stream",
     "text": [
      "127"
     ]
    }
   ],
   "source": [
    "byte b = 127;\n",
    "//El 127 es un int\n",
    "//porque en Java todos los literales (valores)\n",
    "//enteros por defecto son de tipo int\n",
    "print(b);"
   ]
  },
  {
   "cell_type": "code",
   "execution_count": 3,
   "id": "5e66e842-f3a6-4554-b077-9add8f5dcc2e",
   "metadata": {
    "execution": {
     "iopub.execute_input": "2023-01-17T09:17+0000",
     "iopub.status.busy": "2023-01-17T09:17+0000",
     "iopub.status.idle": "2023-01-17T09:17+0000",
     "shell.execute_reply": "2023-01-17T09:17+0000"
    }
   },
   "outputs": [
    {
     "ename": "CompilationException",
     "evalue": "",
     "output_type": "error",
     "traceback": [
      "\u001b[1m\u001b[30m|   \u001b[1m\u001b[30mbyte b2 = \u001b[0m\u001b[1m\u001b[30m\u001b[41m128\u001b[0m\u001b[1m\u001b[30m;\u001b[0m",
      "\u001b[1m\u001b[31mincompatible types: possible lossy conversion from int to byte\u001b[0m",
      ""
     ]
    }
   ],
   "source": [
    "byte b2 = 128;\n",
    "print(b2);"
   ]
  },
  {
   "cell_type": "code",
   "execution_count": 6,
   "id": "eb3249ce-946f-48c3-a503-bbe94500fa5d",
   "metadata": {
    "execution": {
     "iopub.execute_input": "2023-01-17T09:24+0000",
     "iopub.status.busy": "2023-01-17T09:24+0000",
     "iopub.status.idle": "2023-01-17T09:24+0000",
     "shell.execute_reply": "2023-01-17T09:24+0000"
    },
    "tags": []
   },
   "outputs": [
    {
     "name": "stdout",
     "output_type": "stream",
     "text": [
      "56"
     ]
    }
   ],
   "source": [
    "byte b3 = (byte)-200;\n",
    "print(b3);"
   ]
  },
  {
   "cell_type": "code",
   "execution_count": null,
   "id": "4c0c13b0-cf87-46f4-a8d1-09c6747174f7",
   "metadata": {},
   "outputs": [],
   "source": []
  }
 ],
 "metadata": {
  "kernelspec": {
   "display_name": "Java",
   "language": "java",
   "name": "java"
  },
  "language_info": {
   "codemirror_mode": "java",
   "file_extension": ".jshell",
   "mimetype": "text/x-java-source",
   "name": "Java",
   "pygments_lexer": "java",
   "version": "11.0.17+8-LTS"
  }
 },
 "nbformat": 4,
 "nbformat_minor": 5
}
